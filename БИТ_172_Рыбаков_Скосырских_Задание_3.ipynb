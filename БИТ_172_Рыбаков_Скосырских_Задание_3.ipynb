{
  "nbformat": 4,
  "nbformat_minor": 0,
  "metadata": {
    "colab": {
      "name": "БИТ_172_Рыбаков_Скосырских_Задание_3.ipynb",
      "provenance": [],
      "collapsed_sections": [],
      "include_colab_link": true
    },
    "kernelspec": {
      "name": "python3",
      "display_name": "Python 3"
    }
  },
  "cells": [
    {
      "cell_type": "markdown",
      "metadata": {
        "id": "view-in-github",
        "colab_type": "text"
      },
      "source": [
        "<a href=\"https://colab.research.google.com/github/Vladislav5427/Colab/blob/main/%D0%91%D0%98%D0%A2_172_%D0%A0%D1%8B%D0%B1%D0%B0%D0%BA%D0%BE%D0%B2_%D0%A1%D0%BA%D0%BE%D1%81%D1%8B%D1%80%D1%81%D0%BA%D0%B8%D1%85_%D0%97%D0%B0%D0%B4%D0%B0%D0%BD%D0%B8%D0%B5_3.ipynb\" target=\"_parent\"><img src=\"https://colab.research.google.com/assets/colab-badge.svg\" alt=\"Open In Colab\"/></a>"
      ]
    },
    {
      "cell_type": "code",
      "metadata": {
        "colab": {
          "base_uri": "https://localhost:8080/"
        },
        "id": "eh7_FKwmN4G7",
        "outputId": "9c8c38d7-9711-4af9-bad6-843a5bf9914f"
      },
      "source": [
        "N = np.array([[1, 2, 3, 4, 5], [10, 20, 30, 45, 673]])\r\n",
        "D = pd.DataFrame(N)\r\n",
        "print(D)"
      ],
      "execution_count": null,
      "outputs": [
        {
          "output_type": "stream",
          "text": [
            "    0   1   2   3    4\n",
            "0   1   2   3   4    5\n",
            "1  10  20  30  45  673\n"
          ],
          "name": "stdout"
        }
      ]
    }
  ]
}